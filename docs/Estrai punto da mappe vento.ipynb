{
 "cells": [
  {
   "cell_type": "markdown",
   "metadata": {},
   "source": [
    "# Estrazione dei dati di vento da mappe ascii\n",
    "1. definire dove sono le mappe per U e V\n",
    "2. dare le coordinate/indice riga e colonna\n",
    "3. leggere la mappa\n",
    "4. identificare il punto\n",
    "5. estrarre\n",
    "\n",
    "i punti 3-4-5 sono in un ciclo"
   ]
  },
  {
   "cell_type": "markdown",
   "metadata": {},
   "source": [
    "## inizializzazione"
   ]
  },
  {
   "cell_type": "code",
   "execution_count": 1,
   "metadata": {},
   "outputs": [],
   "source": [
    "import os\n",
    "import pandas as pd\n",
    "import numpy as np\n",
    "from pandas import Series, DataFrame, Panel\n",
    "from sqlalchemy import *\n",
    "import datetime as dt\n"
   ]
  },
  {
   "cell_type": "code",
   "execution_count": 11,
   "metadata": {},
   "outputs": [],
   "source": [
    "dir_in='C:\\\\Users\\\\mmussin\\\\Downloads\\\\Bollate\\\\'"
   ]
  },
  {
   "cell_type": "code",
   "execution_count": 85,
   "metadata": {},
   "outputs": [],
   "source": [
    "nome_file=[\"text\",\"text\"]\n",
    "#nome_file=[dir_in+'VV_2017092916UTCplus1.txt',dir_in+'VU_2017092916UTCplus1.txt']\n",
    "datainizio=dt.datetime.strptime('2017-09-01 01:00', '%Y-%m-%d %H:%M')\n",
    "datafine=dt.datetime.strptime('2017-12-31 23:00','%Y-%m-%d %H:%M')\n",
    "elenco_date=range(int((datafine-datainizio).days*24))\n",
    "mylist=[]\n",
    "import csv"
   ]
  },
  {
   "cell_type": "code",
   "execution_count": 88,
   "metadata": {},
   "outputs": [],
   "source": [
    "for numhours in elenco_date:\n",
    "    data=datainizio+dt.timedelta(hours=numhours)\n",
    "    nome_v='VV_2017'+data.strftime(\"%m%d%H\")+'UTCplus1.txt'\n",
    "    nome_u='VU_2017'+data.strftime(\"%m%d%H\")+'UTCplus1.txt'\n",
    "    nome_file=[dir_in+nome_u,dir_in+nome_v]\n",
    "    vento=[0,0]\n",
    "    \n",
    "    irow=85\n",
    "    icol=49\n",
    "    for kk in [0,1]:\n",
    "        f=open(nome_file[kk],\"r\")\n",
    "        lines=f.readlines()\n",
    "        f.close()\n",
    "        c=0\n",
    "        for i in lines:\n",
    "            c+=1\n",
    "            #print(i)\n",
    "            if (c==irow):\n",
    "                array=[i[j:j+14] for j in range(0,len(i),15)]\n",
    "                vento[kk]=array[icol]\n",
    "    #print(vento)\n",
    "    mylist.append(vento)\n",
    "    #print (mylist)"
   ]
  },
  {
   "cell_type": "markdown",
   "metadata": {},
   "source": [
    "## scrittura su file"
   ]
  },
  {
   "cell_type": "code",
   "execution_count": 89,
   "metadata": {},
   "outputs": [],
   "source": [
    "\n",
    "with open (dir_in+'test.csv','w',newline='') as fp:\n",
    "    a=csv.writer(fp,delimiter=';')\n",
    "    a.writerows(mylist)\n",
    "    "
   ]
  }
 ],
 "metadata": {
  "kernelspec": {
   "display_name": "Python 3",
   "language": "python",
   "name": "python3"
  },
  "language_info": {
   "codemirror_mode": {
    "name": "ipython",
    "version": 3
   },
   "file_extension": ".py",
   "mimetype": "text/x-python",
   "name": "python",
   "nbconvert_exporter": "python",
   "pygments_lexer": "ipython3",
   "version": "3.5.4"
  }
 },
 "nbformat": 4,
 "nbformat_minor": 2
}
