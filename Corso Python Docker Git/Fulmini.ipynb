{
 "cells": [
  {
   "cell_type": "markdown",
   "metadata": {},
   "source": [
    "# Fulmini\n",
    "L'applicazione è basata su _**Flask**_, un framework di Python che \"sostituisce\" un webserver utilizzando html statico oppure javascript (vd. esempio del grafico).\n",
    "\n",
    "L'applicazione è inserita dentro un container **_Docker_** e gira nel cluster _**swarm**_ (altrimenti detto _**ucp**_).\n",
    "\n",
    "La logica di esecuzione del codice è controllata da uno script _**bash**__ e non da _**crontab**_.\n",
    "\n",
    "Tutto il codice è disponibile su _**Git**_: https://github.com/ARPASMR/fulmini"
   ]
  },
  {
   "cell_type": "markdown",
   "metadata": {},
   "source": [
    "## diamo un'occhiata più da vicino, utilizzando github..."
   ]
  },
  {
   "cell_type": "markdown",
   "metadata": {},
   "source": [
    "# Replica su jupyter\n",
    "Con Jupyter possiamo replicare solo le parti in pyhton, che ci servono per comprendere un po' meglio il meccanismo di funzionamento. Non replichiamo però la parte di Flask, che lascio come esercizio a ciascuno sul proprio PC."
   ]
  },
  {
   "cell_type": "code",
   "execution_count": 5,
   "metadata": {},
   "outputs": [],
   "source": [
    "# 0. Inizializzazioni\n",
    "import matplotlib\n",
    "matplotlib.use('Agg')\n",
    "import os\n",
    "import datetime as dt\n",
    "import pandas as pd\n",
    "from ftplib import FTP\n",
    "# from mpl_toolkits.basemap import Basemap\n",
    "import matplotlib.pyplot as plt\n",
    "import warnings\n",
    "import matplotlib.cbook\n",
    "from minio import Minio\n",
    "warnings.filterwarnings(\"ignore\",category=matplotlib.cbook.mplDeprecation)\n",
    "from mpl_toolkits.axes_grid1.inset_locator import inset_axes\n",
    "# cartopy\n",
    "#import cartopy.crs as ccrs\n",
    "#import cartopy.feature as cfeature\n",
    "#from cartopy.io.shapereader import Reader\n",
    "\n",
    "HOST='meteoranew.protezionecivile.it'\n",
    "USER='lombardia'\n",
    "PASS='$lombardia$ftp$'\n",
    "REMOTE_DIR='/lampi'\n",
    "ftp=FTP()"
   ]
  },
  {
   "cell_type": "code",
   "execution_count": null,
   "metadata": {},
   "outputs": [],
   "source": []
  }
 ],
 "metadata": {
  "kernelspec": {
   "display_name": "Python 3",
   "language": "python",
   "name": "python3"
  },
  "language_info": {
   "codemirror_mode": {
    "name": "ipython",
    "version": 3
   },
   "file_extension": ".py",
   "mimetype": "text/x-python",
   "name": "python",
   "nbconvert_exporter": "python",
   "pygments_lexer": "ipython3",
   "version": "3.7.3"
  }
 },
 "nbformat": 4,
 "nbformat_minor": 2
}
